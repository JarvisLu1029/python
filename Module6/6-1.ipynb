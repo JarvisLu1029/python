{
 "cells": [
  {
   "cell_type": "code",
   "execution_count": 3,
   "metadata": {},
   "outputs": [
    {
     "name": "stdout",
     "output_type": "stream",
     "text": [
      "Accessing property\n",
      "5\n"
     ]
    }
   ],
   "source": [
    "class MyClass:\n",
    "    def __init__(self, value):\n",
    "        self._my_property = value\n",
    "\n",
    "    @property\n",
    "    def my_property(self):\n",
    "        print(\"Accessing property\")\n",
    "        return self._my_property\n",
    "\n",
    "    # @my_property.setter\n",
    "    # def my_property(self, value):\n",
    "    #     print(\"Setting property\")\n",
    "    #     self._my_property = value\n",
    "\n",
    "obj = MyClass(5)\n",
    "print(obj.my_property)  # 輸出 \"Accessing property\" 然後 5\n",
    "# obj.my_property = 10     # 輸出 \"Setting property\"\n"
   ]
  },
  {
   "cell_type": "code",
   "execution_count": null,
   "metadata": {},
   "outputs": [],
   "source": [
    "class Car:\n",
    "    wheels = 4  \n",
    "\n",
    "    def __init__(self, brand, model):\n",
    "        self.brand = brand\n",
    "        self.model = model\n",
    "\n",
    "    def display_info(self):\n",
    "        print(f\"This is a {self.brand} {self.model} with {Car.wheels} wheels.\")\n"
   ]
  },
  {
   "cell_type": "code",
   "execution_count": 14,
   "metadata": {},
   "outputs": [
    {
     "name": "stdout",
     "output_type": "stream",
     "text": [
      "Python\n",
      "kevin\n",
      "Hello World\n",
      "123\n"
     ]
    }
   ],
   "source": [
    "class Test:\n",
    "    def __init__(self):\n",
    "        self.user = 'kevin'\n",
    "        print('Python')\n",
    "    def method1(x):\n",
    "        x.doc = '123'\n",
    "        print('Hello World')\n",
    "\n",
    "test = Test()\n",
    "print(test.user)\n",
    "test.method1()\n",
    "print(test.doc)"
   ]
  },
  {
   "cell_type": "code",
   "execution_count": null,
   "metadata": {},
   "outputs": [],
   "source": []
  }
 ],
 "metadata": {
  "kernelspec": {
   "display_name": "base",
   "language": "python",
   "name": "python3"
  },
  "language_info": {
   "codemirror_mode": {
    "name": "ipython",
    "version": 3
   },
   "file_extension": ".py",
   "mimetype": "text/x-python",
   "name": "python",
   "nbconvert_exporter": "python",
   "pygments_lexer": "ipython3",
   "version": "3.9.12"
  },
  "orig_nbformat": 4
 },
 "nbformat": 4,
 "nbformat_minor": 2
}
