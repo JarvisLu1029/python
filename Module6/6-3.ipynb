{
 "cells": [
  {
   "cell_type": "code",
   "execution_count": null,
   "metadata": {},
   "outputs": [],
   "source": [
    "# 建立家長類別\n",
    "class Parent():\n",
    "    def __init__(self, height, weight):\n",
    "        self.height = height\n",
    "        self.weight = weight\n",
    "        self.money = 100000000\n",
    "    def post(self):\n",
    "        return '發話中'\n",
    "\n",
    "# 建立子類別\n",
    "class Child(Parent):\n",
    "    '''\n",
    "    這裡的 __init__ 屬於 Child 類別的，會將 Parent 的 __init__ 覆蓋掉\n",
    "    '''\n",
    "    def __init__(self, height, weight):\n",
    "        '''\n",
    "        super() 代表父類別，\n",
    "        super().__init__() 代表使用父類別的建構子，\n",
    "        在執行這行程式碼時，會自動將 Parent 所有屬性、方法繼承下來\n",
    "        (包括 self.money)\n",
    "        '''\n",
    "        super().__init__(height, weight)\n",
    "        self.height = height\n",
    "        self.weight = weight\n",
    "    def reply(self):\n",
    "        return '回話中'\n",
    "    def content(self):\n",
    "        return '我知道了'\n",
    "    def post(self): # overwrite (覆寫) 父類別的方法\n",
    "        return '不要再發話了'\n",
    "\n",
    "# 實體化 Parent 物件\n",
    "obj_parent = Parent(165, 80)\n",
    "print(obj_parent.height)\n",
    "print(obj_parent.weight)\n",
    "print(obj_parent.post())\n",
    "\n",
    "# 實體化 Child 物件\n",
    "# (此時 Child 除了自己的屬性、方法外，還擁有父類別的屬性、方法)\n",
    "obj_child = Child(172, 95)\n",
    "print(obj_child.height)\n",
    "print(obj_child.weight)\n",
    "print(obj_child.money)\n",
    "print(obj_child.reply())\n",
    "print(obj_child.content())\n",
    "print(obj_child.post())\n"
   ]
  }
 ],
 "metadata": {
  "kernelspec": {
   "display_name": "base",
   "language": "python",
   "name": "python3"
  },
  "language_info": {
   "name": "python",
   "version": "3.9.12"
  },
  "orig_nbformat": 4
 },
 "nbformat": 4,
 "nbformat_minor": 2
}
