{
 "cells": [
  {
   "cell_type": "markdown",
   "metadata": {},
   "source": [
    "### 算術運算子"
   ]
  },
  {
   "cell_type": "code",
   "execution_count": 2,
   "metadata": {},
   "outputs": [
    {
     "name": "stdout",
     "output_type": "stream",
     "text": [
      "13\n",
      "1.5\n",
      "8\n"
     ]
    }
   ],
   "source": [
    "print(9 + 4)\n",
    "print(3 / 2)\n",
    "print(2 ** 3)"
   ]
  },
  {
   "cell_type": "markdown",
   "metadata": {},
   "source": [
    "### 賦值運算子"
   ]
  },
  {
   "cell_type": "code",
   "execution_count": 6,
   "metadata": {},
   "outputs": [
    {
     "name": "stdout",
     "output_type": "stream",
     "text": [
      "13\n"
     ]
    }
   ],
   "source": [
    "a = 9\n",
    "b = 4\n",
    "a += b # a = a + b\n",
    "print(a)"
   ]
  },
  {
   "cell_type": "code",
   "execution_count": 4,
   "metadata": {},
   "outputs": [
    {
     "name": "stdout",
     "output_type": "stream",
     "text": [
      "16\n"
     ]
    }
   ],
   "source": [
    "c = 4\n",
    "d = 2\n",
    "d **= c # d = d ** c\n",
    "print(d)"
   ]
  },
  {
   "cell_type": "markdown",
   "metadata": {},
   "source": [
    "### 比較運算子"
   ]
  },
  {
   "cell_type": "code",
   "execution_count": 7,
   "metadata": {},
   "outputs": [
    {
     "name": "stdout",
     "output_type": "stream",
     "text": [
      "e 等於 4\n",
      "e 大於 2\n",
      "e 不等於 5\n"
     ]
    }
   ],
   "source": [
    "e = 4\n",
    "if e == 4:\n",
    "    print('e 等於 4')\n",
    "if e > 2:\n",
    "    print('e 大於 2')\n",
    "if e != 5:\n",
    "    print('e 不等於 5')"
   ]
  },
  {
   "cell_type": "markdown",
   "metadata": {},
   "source": [
    "### 邏輯運算子"
   ]
  },
  {
   "cell_type": "code",
   "execution_count": 8,
   "metadata": {},
   "outputs": [
    {
     "name": "stdout",
     "output_type": "stream",
     "text": [
      "ok\n",
      "name is Bill\n"
     ]
    }
   ],
   "source": [
    "f = 8\n",
    "name = 'Bill'\n",
    "if f == 8 and name == 'Bill':\n",
    "    print('ok')\n",
    "if f == 6 or name == 'Bill':\n",
    "    print('name is Bill')"
   ]
  },
  {
   "cell_type": "markdown",
   "metadata": {},
   "source": [
    "### 成員運算子"
   ]
  },
  {
   "cell_type": "code",
   "execution_count": 9,
   "metadata": {},
   "outputs": [
    {
     "name": "stdout",
     "output_type": "stream",
     "text": [
      "6 is in List\n",
      "4 is not in List\n"
     ]
    }
   ],
   "source": [
    "myList = [5, 5, 6, 6, 3, 3, 1, 2]\n",
    "if 6 in myList:\n",
    "    print('6 is in List')\n",
    "if 4 not in myList:\n",
    "    print('4 is not in List')"
   ]
  }
 ],
 "metadata": {
  "kernelspec": {
   "display_name": "base",
   "language": "python",
   "name": "python3"
  },
  "language_info": {
   "codemirror_mode": {
    "name": "ipython",
    "version": 3
   },
   "file_extension": ".py",
   "mimetype": "text/x-python",
   "name": "python",
   "nbconvert_exporter": "python",
   "pygments_lexer": "ipython3",
   "version": "3.9.12"
  },
  "orig_nbformat": 4
 },
 "nbformat": 4,
 "nbformat_minor": 2
}
