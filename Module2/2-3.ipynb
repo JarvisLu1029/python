{
 "cells": [
  {
   "cell_type": "markdown",
   "metadata": {},
   "source": [
    "### 算術運算子"
   ]
  },
  {
   "cell_type": "code",
   "execution_count": 2,
   "metadata": {},
   "outputs": [
    {
     "name": "stdout",
     "output_type": "stream",
     "text": [
      "13\n",
      "1.5\n",
      "8\n"
     ]
    }
   ],
   "source": [
    "print(9 + 4)\n",
    "print(3 / 2)\n",
    "print(2 ** 3)"
   ]
  },
  {
   "cell_type": "markdown",
   "metadata": {},
   "source": [
    "### 賦值運算子"
   ]
  },
  {
   "cell_type": "code",
   "execution_count": 17,
   "metadata": {},
   "outputs": [
    {
     "name": "stdout",
     "output_type": "stream",
     "text": [
      "13\n",
      "6\n"
     ]
    }
   ],
   "source": [
    "a, b = 9, 4\n",
    "a += b # a = a + b\n",
    "print(a)\n",
    "\n",
    "cnt = 0\n",
    "for i in [1, 2, 3]:\n",
    "    cnt += i\n",
    "print(cnt) "
   ]
  },
  {
   "cell_type": "code",
   "execution_count": 4,
   "metadata": {},
   "outputs": [
    {
     "name": "stdout",
     "output_type": "stream",
     "text": [
      "16\n"
     ]
    }
   ],
   "source": [
    "c, d = 4, 2\n",
    "d **= c # d = d ** c\n",
    "print(d)"
   ]
  },
  {
   "cell_type": "markdown",
   "metadata": {},
   "source": [
    "### 比較運算子"
   ]
  },
  {
   "cell_type": "code",
   "execution_count": 7,
   "metadata": {},
   "outputs": [
    {
     "name": "stdout",
     "output_type": "stream",
     "text": [
      "e 等於 4\n",
      "e 大於 2\n",
      "e 不等於 5\n"
     ]
    }
   ],
   "source": [
    "e = 4\n",
    "if e == 4:\n",
    "    print('e 等於 4')\n",
    "if e > 2:\n",
    "    print('e 大於 2')\n",
    "if e != 5:\n",
    "    print('e 不等於 5')"
   ]
  },
  {
   "cell_type": "markdown",
   "metadata": {},
   "source": [
    "### 邏輯運算子"
   ]
  },
  {
   "cell_type": "code",
   "execution_count": 8,
   "metadata": {},
   "outputs": [
    {
     "name": "stdout",
     "output_type": "stream",
     "text": [
      "ok\n",
      "name is Bill\n"
     ]
    }
   ],
   "source": [
    "f = 8\n",
    "name = 'Bill'\n",
    "if f == 8 and name == 'Bill':\n",
    "    print('ok')\n",
    "if f == 6 or name == 'Bill':\n",
    "    print('name is Bill')"
   ]
  },
  {
   "cell_type": "markdown",
   "metadata": {},
   "source": [
    "### 成員運算子"
   ]
  },
  {
   "cell_type": "code",
   "execution_count": 9,
   "metadata": {},
   "outputs": [
    {
     "name": "stdout",
     "output_type": "stream",
     "text": [
      "6 is in List\n",
      "4 is not in List\n"
     ]
    }
   ],
   "source": [
    "myList = [5, 5, 6, 6, 3, 3, 1, 2]\n",
    "if 6 in myList:\n",
    "    print('6 is in List')\n",
    "if 4 not in myList:\n",
    "    print('4 is not in List')"
   ]
  },
  {
   "cell_type": "markdown",
   "metadata": {},
   "source": [
    "### 身分運算子"
   ]
  },
  {
   "cell_type": "code",
   "execution_count": 2,
   "metadata": {},
   "outputs": [
    {
     "name": "stdout",
     "output_type": "stream",
     "text": [
      "x 和 y 是同一個物件\n"
     ]
    }
   ],
   "source": [
    "x = 123\n",
    "y = 123\n",
    "if x is y:\n",
    "    print('x 和 y 是同一個物件')"
   ]
  },
  {
   "cell_type": "code",
   "execution_count": 3,
   "metadata": {},
   "outputs": [
    {
     "name": "stdout",
     "output_type": "stream",
     "text": [
      "x 和 y 不是同一個物件\n",
      "2504437684400\n",
      "2504524209360\n"
     ]
    }
   ],
   "source": [
    "x = 123\n",
    "y = 456\n",
    "if x is not y:\n",
    "    print('x 和 y 不是同一個物件')\n",
    "    print(id(x))\n",
    "    print(id(y))"
   ]
  },
  {
   "cell_type": "code",
   "execution_count": 8,
   "metadata": {},
   "outputs": [
    {
     "name": "stdout",
     "output_type": "stream",
     "text": [
      "x 和 y 相同\n",
      "x 和 y 不是同一個物件\n"
     ]
    }
   ],
   "source": [
    "x = (1, 2, 3)\n",
    "y = (1, 2, 3)\n",
    "if x == y:\n",
    "    print('x 和 y 相同')\n",
    "if x is not y:\n",
    "    print('x 和 y 不是同一個物件')"
   ]
  },
  {
   "cell_type": "markdown",
   "metadata": {},
   "source": [
    "### 位元運算子"
   ]
  },
  {
   "cell_type": "code",
   "execution_count": 11,
   "metadata": {},
   "outputs": [
    {
     "name": "stdout",
     "output_type": "stream",
     "text": [
      "1\n"
     ]
    }
   ],
   "source": [
    "# & AND 運算\n",
    "x = 1 # 0001\n",
    "y = 3 # 0011\n",
    "print(x&y) # 0001"
   ]
  },
  {
   "cell_type": "code",
   "execution_count": 13,
   "metadata": {},
   "outputs": [
    {
     "name": "stdout",
     "output_type": "stream",
     "text": [
      "7\n"
     ]
    }
   ],
   "source": [
    "# | or 運算\n",
    "x = 5 # 0101\n",
    "y = 3 # 0011\n",
    "print(x|y) # 0111"
   ]
  },
  {
   "cell_type": "code",
   "execution_count": 14,
   "metadata": {},
   "outputs": [
    {
     "name": "stdout",
     "output_type": "stream",
     "text": [
      "2\n"
     ]
    }
   ],
   "source": [
    "# ^ XOR 運算\n",
    "x = 1 # 0001\n",
    "y = 3 # 0011\n",
    "print(x^y) # 0010"
   ]
  },
  {
   "cell_type": "code",
   "execution_count": 10,
   "metadata": {},
   "outputs": [
    {
     "name": "stdout",
     "output_type": "stream",
     "text": [
      "99\n"
     ]
    }
   ],
   "source": [
    "x = - 100\n",
    "print(~x)"
   ]
  },
  {
   "cell_type": "code",
   "execution_count": 16,
   "metadata": {},
   "outputs": [
    {
     "name": "stdout",
     "output_type": "stream",
     "text": [
      "10\n"
     ]
    }
   ],
   "source": [
    "x = 5 # 0101\n",
    "print(x<<1) # 1010"
   ]
  }
 ],
 "metadata": {
  "kernelspec": {
   "display_name": "base",
   "language": "python",
   "name": "python3"
  },
  "language_info": {
   "codemirror_mode": {
    "name": "ipython",
    "version": 3
   },
   "file_extension": ".py",
   "mimetype": "text/x-python",
   "name": "python",
   "nbconvert_exporter": "python",
   "pygments_lexer": "ipython3",
   "version": "3.9.12"
  },
  "orig_nbformat": 4
 },
 "nbformat": 4,
 "nbformat_minor": 2
}
