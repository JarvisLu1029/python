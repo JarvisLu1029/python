{
 "cells": [
  {
   "cell_type": "code",
   "execution_count": null,
   "metadata": {},
   "outputs": [],
   "source": [
    "'''\n",
    "給一個 txt 檔案，要將裡面的資料分類成另外三個檔案\n",
    "內文是\n",
    "file1.c\n",
    "file1.cs\n",
    "file1.cpp\n",
    "file2.c\n",
    "file2.cs\n",
    "file3.c\n",
    "code1.cpp\n",
    "code1.cs\n",
    "\n",
    "出來的檔案要是\n",
    "c_XXX.txt\n",
    "cs_XXX.txt\n",
    "cpp_XXX.txt\n",
    "'''"
   ]
  },
  {
   "cell_type": "code",
   "execution_count": 12,
   "metadata": {},
   "outputs": [
    {
     "name": "stdout",
     "output_type": "stream",
     "text": [
      "['file1.c', 'file1.cs', 'file1.cpp', 'file2.c', 'file2.cs', 'file3.c', 'code1.cpp', 'code1.cs']\n"
     ]
    }
   ],
   "source": [
    "def data_collection(file):\n",
    "    data_list = []\n",
    "    with open(file, 'r') as f:\n",
    "        data = f.readlines()\n",
    "        for i in data:\n",
    "            data_list.append(i.strip('\\n'))\n",
    "    print(data_list)\n",
    "\n",
    "    for d in data_list:\n",
    "        if d[-3:] == '.cs':\n",
    "            with open (f'cs_{file}', 'a') as f:\n",
    "                f.write(d+'\\n')\n",
    "\n",
    "data_collection('00data.txt')"
   ]
  },
  {
   "cell_type": "code",
   "execution_count": null,
   "metadata": {},
   "outputs": [],
   "source": []
  },
  {
   "cell_type": "code",
   "execution_count": null,
   "metadata": {},
   "outputs": [],
   "source": [
    "\n"
   ]
  },
  {
   "cell_type": "code",
   "execution_count": null,
   "metadata": {},
   "outputs": [],
   "source": []
  }
 ],
 "metadata": {
  "kernelspec": {
   "display_name": "base",
   "language": "python",
   "name": "python3"
  },
  "language_info": {
   "codemirror_mode": {
    "name": "ipython",
    "version": 3
   },
   "file_extension": ".py",
   "mimetype": "text/x-python",
   "name": "python",
   "nbconvert_exporter": "python",
   "pygments_lexer": "ipython3",
   "version": "3.9.13"
  },
  "orig_nbformat": 4
 },
 "nbformat": 4,
 "nbformat_minor": 2
}
