{
 "cells": [
  {
   "cell_type": "code",
   "execution_count": null,
   "metadata": {},
   "outputs": [],
   "source": [
    "'''\n",
    "條件判斷\n",
    "if ... else; if ... elif ... else; True 和 False\n",
    "'''"
   ]
  },
  {
   "cell_type": "markdown",
   "metadata": {},
   "source": [
    "### if"
   ]
  },
  {
   "cell_type": "code",
   "execution_count": null,
   "metadata": {},
   "outputs": [],
   "source": [
    "'''\n",
    "可以用以下符號來進行條件判斷\n",
    "== (等於)\n",
    "> (大於)\n",
    ">= (大於等於)\n",
    "< (小於)\n",
    "<= (小於等於)\n",
    "!= (不等於)\n",
    "'''\n",
    "num = 10\n",
    "if num > 5:\n",
    "    print(\"num 大於 5\")"
   ]
  },
  {
   "cell_type": "markdown",
   "metadata": {},
   "source": [
    "### if...else..."
   ]
  },
  {
   "cell_type": "code",
   "execution_count": 2,
   "metadata": {},
   "outputs": [
    {
     "name": "stdout",
     "output_type": "stream",
     "text": [
      "名稱是 apple\n"
     ]
    }
   ],
   "source": [
    "name = 'apple'\n",
    "if name == 'apple':\n",
    "    print('名稱是 apple')\n",
    "else:\n",
    "    print(\"名稱不是 apple\")\n"
   ]
  },
  {
   "cell_type": "markdown",
   "metadata": {},
   "source": [
    "### if...elif...else..."
   ]
  },
  {
   "cell_type": "code",
   "execution_count": 1,
   "metadata": {},
   "outputs": [
    {
     "name": "stdout",
     "output_type": "stream",
     "text": [
      "Not found\n"
     ]
    }
   ],
   "source": [
    "name = 'jarvis'\n",
    "if name == \"alex\":\n",
    "    print(\"名稱: alex\")\n",
    "elif name == \"bill\":\n",
    "    print(\"名稱: bill\")\n",
    "elif name == \"carl\":\n",
    "    print(\"名稱: carl\")\n",
    "else:\n",
    "    print(\"Not found\")"
   ]
  }
 ],
 "metadata": {
  "kernelspec": {
   "display_name": "base",
   "language": "python",
   "name": "python3"
  },
  "language_info": {
   "codemirror_mode": {
    "name": "ipython",
    "version": 3
   },
   "file_extension": ".py",
   "mimetype": "text/x-python",
   "name": "python",
   "nbconvert_exporter": "python",
   "pygments_lexer": "ipython3",
   "version": "3.9.12"
  },
  "orig_nbformat": 4
 },
 "nbformat": 4,
 "nbformat_minor": 2
}
