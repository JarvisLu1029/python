{
 "cells": [
  {
   "cell_type": "code",
   "execution_count": 2,
   "metadata": {},
   "outputs": [
    {
     "name": "stdout",
     "output_type": "stream",
     "text": [
      "2\n"
     ]
    }
   ],
   "source": [
    "name = 1\n",
    "nAme = 2\n",
    "\n",
    "print(nAme)"
   ]
  },
  {
   "cell_type": "code",
   "execution_count": 6,
   "metadata": {},
   "outputs": [
    {
     "name": "stdout",
     "output_type": "stream",
     "text": [
      "False\n"
     ]
    }
   ],
   "source": [
    "b = name>1\n",
    "print(b)"
   ]
  },
  {
   "cell_type": "code",
   "execution_count": 4,
   "metadata": {},
   "outputs": [
    {
     "name": "stdout",
     "output_type": "stream",
     "text": [
      "[1, 2, 3, 1, 2, 3]\n"
     ]
    }
   ],
   "source": [
    "a = [1, 2, 3]\n",
    "b = [1, 2, 3]\n",
    "\n",
    "print(a+b)"
   ]
  },
  {
   "cell_type": "code",
   "execution_count": 2,
   "metadata": {},
   "outputs": [
    {
     "name": "stdout",
     "output_type": "stream",
     "text": [
      "1\n",
      "2\n",
      "3\n"
     ]
    },
    {
     "ename": "TypeError",
     "evalue": "'set' object is not subscriptable",
     "output_type": "error",
     "traceback": [
      "\u001b[1;31m---------------------------------------------------------------------------\u001b[0m",
      "\u001b[1;31mTypeError\u001b[0m                                 Traceback (most recent call last)",
      "\u001b[1;32me:\\Program\\資策會課程講義\\個人講義\\Python_basic\\test2.ipynb Cell 4\u001b[0m in \u001b[0;36m<cell line: 4>\u001b[1;34m()\u001b[0m\n\u001b[0;32m      <a href='vscode-notebook-cell:/e%3A/Program/%E8%B3%87%E7%AD%96%E6%9C%83%E8%AA%B2%E7%A8%8B%E8%AC%9B%E7%BE%A9/%E5%80%8B%E4%BA%BA%E8%AC%9B%E7%BE%A9/Python_basic/test2.ipynb#X23sZmlsZQ%3D%3D?line=1'>2</a>\u001b[0m \u001b[39mfor\u001b[39;00m i \u001b[39min\u001b[39;00m a:\n\u001b[0;32m      <a href='vscode-notebook-cell:/e%3A/Program/%E8%B3%87%E7%AD%96%E6%9C%83%E8%AA%B2%E7%A8%8B%E8%AC%9B%E7%BE%A9/%E5%80%8B%E4%BA%BA%E8%AC%9B%E7%BE%A9/Python_basic/test2.ipynb#X23sZmlsZQ%3D%3D?line=2'>3</a>\u001b[0m     \u001b[39mprint\u001b[39m(i)\n\u001b[1;32m----> <a href='vscode-notebook-cell:/e%3A/Program/%E8%B3%87%E7%AD%96%E6%9C%83%E8%AA%B2%E7%A8%8B%E8%AC%9B%E7%BE%A9/%E5%80%8B%E4%BA%BA%E8%AC%9B%E7%BE%A9/Python_basic/test2.ipynb#X23sZmlsZQ%3D%3D?line=3'>4</a>\u001b[0m a[\u001b[39m0\u001b[39;49m]\n",
      "\u001b[1;31mTypeError\u001b[0m: 'set' object is not subscriptable"
     ]
    }
   ],
   "source": [
    "a = {1, 2, 3}\n",
    "for i in a:\n",
    "    print(i)\n",
    "a[0]"
   ]
  },
  {
   "cell_type": "code",
   "execution_count": 10,
   "metadata": {},
   "outputs": [
    {
     "data": {
      "text/plain": [
       "0"
      ]
     },
     "execution_count": 10,
     "metadata": {},
     "output_type": "execute_result"
    }
   ],
   "source": [
    "str1 = 1\n",
    "str2 = '2'\n",
    "\n",
    "# str3 = str1 + str2\n",
    "# print(str3) \n",
    "dir(str1)\n",
    "str1.imag"
   ]
  },
  {
   "cell_type": "code",
   "execution_count": 5,
   "metadata": {},
   "outputs": [
    {
     "name": "stdout",
     "output_type": "stream",
     "text": [
      "{1, 2, 3}\n"
     ]
    }
   ],
   "source": [
    "a = {1, 2, 3}\n",
    "print(a)"
   ]
  },
  {
   "cell_type": "code",
   "execution_count": 8,
   "metadata": {},
   "outputs": [
    {
     "name": "stdout",
     "output_type": "stream",
     "text": [
      "1\n"
     ]
    }
   ],
   "source": [
    "dict_1 = {5: 1}\n",
    "print(dict_1[5])"
   ]
  },
  {
   "cell_type": "code",
   "execution_count": 16,
   "metadata": {},
   "outputs": [
    {
     "name": "stdout",
     "output_type": "stream",
     "text": [
      "2\n"
     ]
    }
   ],
   "source": [
    "a = 10 # 1010\n",
    "b = 7 # 0111\n",
    "print(a&b)"
   ]
  },
  {
   "cell_type": "code",
   "execution_count": 17,
   "metadata": {},
   "outputs": [
    {
     "data": {
      "text/plain": [
       "str"
      ]
     },
     "execution_count": 17,
     "metadata": {},
     "output_type": "execute_result"
    }
   ],
   "source": [
    "c = f'{a}'\n",
    "type(c)"
   ]
  },
  {
   "cell_type": "code",
   "execution_count": 19,
   "metadata": {},
   "outputs": [
    {
     "data": {
      "text/plain": [
       "True"
      ]
     },
     "execution_count": 19,
     "metadata": {},
     "output_type": "execute_result"
    }
   ],
   "source": [
    "50+50 != 50"
   ]
  },
  {
   "cell_type": "code",
   "execution_count": 20,
   "metadata": {},
   "outputs": [
    {
     "name": "stderr",
     "output_type": "stream",
     "text": [
      "<>:1: SyntaxWarning: \"is not\" with a literal. Did you mean \"!=\"?\n",
      "<>:1: SyntaxWarning: \"is not\" with a literal. Did you mean \"!=\"?\n",
      "C:\\Users\\Jarvis Lu\\AppData\\Local\\Temp\\ipykernel_48804\\2683432056.py:1: SyntaxWarning: \"is not\" with a literal. Did you mean \"!=\"?\n",
      "  a is not 50\n"
     ]
    },
    {
     "data": {
      "text/plain": [
       "True"
      ]
     },
     "execution_count": 20,
     "metadata": {},
     "output_type": "execute_result"
    }
   ],
   "source": [
    "a is not 50"
   ]
  },
  {
   "cell_type": "code",
   "execution_count": null,
   "metadata": {},
   "outputs": [],
   "source": [
    "car_dict = {'price':500, 'color':'red', 'brand':'TOYOTA'}\n",
    "car_price = car_dict['price']\n"
   ]
  },
  {
   "cell_type": "code",
   "execution_count": 24,
   "metadata": {},
   "outputs": [
    {
     "data": {
      "text/plain": [
       "'2023 07 31'"
      ]
     },
     "execution_count": 24,
     "metadata": {},
     "output_type": "execute_result"
    }
   ],
   "source": [
    "from datetime import datetime\n",
    "datetime.now().strftime(\"%Y-%m-%d\")\n"
   ]
  },
  {
   "cell_type": "code",
   "execution_count": 27,
   "metadata": {},
   "outputs": [],
   "source": [
    "class Dog:\n",
    "    foot = \"123\"\n",
    "\n",
    "    def __init__(a, name):\n",
    "        a.name = name  # 使用 'self' 來設置 'name' 屬性\n",
    "\n",
    "    def bark(a):\n",
    "        return \"Woof! My name is \" + a.name  # 使用 'self' 來存取 'name' 屬性\n"
   ]
  },
  {
   "cell_type": "code",
   "execution_count": 29,
   "metadata": {},
   "outputs": [
    {
     "name": "stdout",
     "output_type": "stream",
     "text": [
      "123\n"
     ]
    }
   ],
   "source": [
    "a2 = Dog.foot\n",
    "dog = Dog(\"Cubie\")\n",
    "dog.bark()\n",
    "print(a2)"
   ]
  },
  {
   "cell_type": "code",
   "execution_count": 31,
   "metadata": {},
   "outputs": [
    {
     "data": {
      "text/plain": [
       "str"
      ]
     },
     "execution_count": 31,
     "metadata": {},
     "output_type": "execute_result"
    }
   ],
   "source": [
    "a = 'a11'\n",
    "type(a)"
   ]
  },
  {
   "cell_type": "code",
   "execution_count": 44,
   "metadata": {},
   "outputs": [
    {
     "name": "stdout",
     "output_type": "stream",
     "text": [
      "Hello World!\n"
     ]
    }
   ],
   "source": [
    "class Test3:\n",
    "    def __init__(self):\n",
    "        # print('Python')\n",
    "        a = 0\n",
    "    def t1(self):\n",
    "        return 'Hello World!'\n",
    "    def t2(self):\n",
    "        return 'Good job!'\n",
    "\n",
    "test = Test3()\n",
    "print(test.t1())\n",
    "# print(a)"
   ]
  },
  {
   "cell_type": "code",
   "execution_count": 47,
   "metadata": {},
   "outputs": [
    {
     "name": "stdout",
     "output_type": "stream",
     "text": [
      "2158454270608\n",
      "2158454270608\n"
     ]
    }
   ],
   "source": [
    "a = 5+4+3\n",
    "b = 5+3+4\n",
    "\n",
    "print(id(a))\n",
    "print(id(b))"
   ]
  },
  {
   "cell_type": "code",
   "execution_count": 48,
   "metadata": {},
   "outputs": [
    {
     "name": "stdout",
     "output_type": "stream",
     "text": [
      "(1, 2, 3)\n"
     ]
    }
   ],
   "source": [
    "a = 1, 2, 3\n",
    "print(a)"
   ]
  },
  {
   "cell_type": "code",
   "execution_count": 1,
   "metadata": {},
   "outputs": [
    {
     "data": {
      "text/plain": [
       "['__abs__',\n",
       " '__add__',\n",
       " '__and__',\n",
       " '__bool__',\n",
       " '__ceil__',\n",
       " '__class__',\n",
       " '__delattr__',\n",
       " '__dir__',\n",
       " '__divmod__',\n",
       " '__doc__',\n",
       " '__eq__',\n",
       " '__float__',\n",
       " '__floor__',\n",
       " '__floordiv__',\n",
       " '__format__',\n",
       " '__ge__',\n",
       " '__getattribute__',\n",
       " '__getnewargs__',\n",
       " '__gt__',\n",
       " '__hash__',\n",
       " '__index__',\n",
       " '__init__',\n",
       " '__init_subclass__',\n",
       " '__int__',\n",
       " '__invert__',\n",
       " '__le__',\n",
       " '__lshift__',\n",
       " '__lt__',\n",
       " '__mod__',\n",
       " '__mul__',\n",
       " '__ne__',\n",
       " '__neg__',\n",
       " '__new__',\n",
       " '__or__',\n",
       " '__pos__',\n",
       " '__pow__',\n",
       " '__radd__',\n",
       " '__rand__',\n",
       " '__rdivmod__',\n",
       " '__reduce__',\n",
       " '__reduce_ex__',\n",
       " '__repr__',\n",
       " '__rfloordiv__',\n",
       " '__rlshift__',\n",
       " '__rmod__',\n",
       " '__rmul__',\n",
       " '__ror__',\n",
       " '__round__',\n",
       " '__rpow__',\n",
       " '__rrshift__',\n",
       " '__rshift__',\n",
       " '__rsub__',\n",
       " '__rtruediv__',\n",
       " '__rxor__',\n",
       " '__setattr__',\n",
       " '__sizeof__',\n",
       " '__str__',\n",
       " '__sub__',\n",
       " '__subclasshook__',\n",
       " '__truediv__',\n",
       " '__trunc__',\n",
       " '__xor__',\n",
       " 'as_integer_ratio',\n",
       " 'bit_length',\n",
       " 'conjugate',\n",
       " 'denominator',\n",
       " 'from_bytes',\n",
       " 'imag',\n",
       " 'numerator',\n",
       " 'real',\n",
       " 'to_bytes']"
      ]
     },
     "execution_count": 1,
     "metadata": {},
     "output_type": "execute_result"
    }
   ],
   "source": [
    "a = 5\n",
    "dir(a)"
   ]
  },
  {
   "cell_type": "code",
   "execution_count": 8,
   "metadata": {},
   "outputs": [
    {
     "data": {
      "text/plain": [
       "[4, 6, 8, 10]"
      ]
     },
     "execution_count": 8,
     "metadata": {},
     "output_type": "execute_result"
    }
   ],
   "source": [
    "def even_number(x, n):\n",
    "    ans = []\n",
    "    if x%2 == 0:\n",
    "        for i in range(n+1):\n",
    "            ans.append(x+2*i)\n",
    "    else:\n",
    "        for i in range(n+1):\n",
    "            ans.append((x+1)+2*i)\n",
    "    return ans\n",
    "\n",
    "even_number(3, 3)"
   ]
  },
  {
   "cell_type": "markdown",
   "metadata": {},
   "source": []
  },
  {
   "cell_type": "code",
   "execution_count": 3,
   "metadata": {},
   "outputs": [
    {
     "data": {
      "text/plain": [
       "0"
      ]
     },
     "execution_count": 3,
     "metadata": {},
     "output_type": "execute_result"
    }
   ],
   "source": [
    "a.imag"
   ]
  },
  {
   "cell_type": "code",
   "execution_count": 7,
   "metadata": {},
   "outputs": [
    {
     "name": "stdout",
     "output_type": "stream",
     "text": [
      "Requirement already satisfied: pip in c:\\users\\jarvis lu\\appdata\\roaming\\python\\python39\\site-packages (23.1.2)\n",
      "Collecting pip\n",
      "  Using cached pip-23.2.1-py3-none-any.whl (2.1 MB)\n",
      "Installing collected packages: pip\n",
      "  Attempting uninstall: pip\n",
      "    Found existing installation: pip 23.1.2\n",
      "    Uninstalling pip-23.1.2:\n",
      "      Successfully uninstalled pip-23.1.2\n",
      "  Rolling back uninstall of pip\n",
      "  Moving to c:\\users\\jarvis lu\\appdata\\roaming\\python\\python39\\scripts\\pip.exe\n",
      "   from C:\\Users\\Jarvis Lu\\AppData\\Local\\Temp\\pip-uninstall-6xatrbrd\\pip.exe\n",
      "  Moving to c:\\users\\jarvis lu\\appdata\\roaming\\python\\python39\\scripts\\pip3.9.exe\n",
      "   from C:\\Users\\Jarvis Lu\\AppData\\Local\\Temp\\pip-uninstall-6xatrbrd\\pip3.9.exe\n",
      "  Moving to c:\\users\\jarvis lu\\appdata\\roaming\\python\\python39\\scripts\\pip3.exe\n",
      "   from C:\\Users\\Jarvis Lu\\AppData\\Local\\Temp\\pip-uninstall-6xatrbrd\\pip3.exe\n",
      "  Moving to c:\\users\\jarvis lu\\appdata\\roaming\\python\\python39\\site-packages\\pip-23.1.2.dist-info\\\n",
      "   from C:\\Users\\Jarvis Lu\\AppData\\Roaming\\Python\\Python39\\site-packages\\~ip-23.1.2.dist-info\n",
      "  Moving to c:\\users\\jarvis lu\\appdata\\roaming\\python\\python39\\site-packages\\pip\\\n",
      "   from C:\\Users\\Jarvis Lu\\AppData\\Roaming\\Python\\Python39\\site-packages\\~ip\n"
     ]
    },
    {
     "name": "stderr",
     "output_type": "stream",
     "text": [
      "ERROR: Exception:\n",
      "Traceback (most recent call last):\n",
      "  File \"C:\\Users\\Jarvis Lu\\AppData\\Roaming\\Python\\Python39\\site-packages\\pip\\_internal\\cli\\base_command.py\", line 169, in exc_logging_wrapper\n",
      "    status = run_func(*args)\n",
      "  File \"C:\\Users\\Jarvis Lu\\AppData\\Roaming\\Python\\Python39\\site-packages\\pip\\_internal\\cli\\req_command.py\", line 248, in wrapper\n",
      "    return func(self, options, args)\n",
      "  File \"C:\\Users\\Jarvis Lu\\AppData\\Roaming\\Python\\Python39\\site-packages\\pip\\_internal\\commands\\install.py\", line 449, in run\n",
      "    installed = install_given_reqs(\n",
      "  File \"C:\\Users\\Jarvis Lu\\AppData\\Roaming\\Python\\Python39\\site-packages\\pip\\_internal\\req\\__init__.py\", line 72, in install_given_reqs\n",
      "    requirement.install(\n",
      "  File \"C:\\Users\\Jarvis Lu\\AppData\\Roaming\\Python\\Python39\\site-packages\\pip\\_internal\\req\\req_install.py\", line 800, in install\n",
      "    install_wheel(\n",
      "  File \"C:\\Users\\Jarvis Lu\\AppData\\Roaming\\Python\\Python39\\site-packages\\pip\\_internal\\operations\\install\\wheel.py\", line 731, in install_wheel\n",
      "    _install_wheel(\n",
      "  File \"C:\\Users\\Jarvis Lu\\AppData\\Roaming\\Python\\Python39\\site-packages\\pip\\_internal\\operations\\install\\wheel.py\", line 648, in _install_wheel\n",
      "    generated_console_scripts = maker.make_multiple(scripts_to_generate)\n",
      "  File \"C:\\Users\\Jarvis Lu\\AppData\\Roaming\\Python\\Python39\\site-packages\\pip\\_vendor\\distlib\\scripts.py\", line 436, in make_multiple\n",
      "    filenames.extend(self.make(specification, options))\n",
      "  File \"C:\\Users\\Jarvis Lu\\AppData\\Roaming\\Python\\Python39\\site-packages\\pip\\_internal\\operations\\install\\wheel.py\", line 429, in make\n",
      "    return super().make(specification, options)\n",
      "  File \"C:\\Users\\Jarvis Lu\\AppData\\Roaming\\Python\\Python39\\site-packages\\pip\\_vendor\\distlib\\scripts.py\", line 425, in make\n",
      "    self._make_script(entry, filenames, options=options)\n",
      "  File \"C:\\Users\\Jarvis Lu\\AppData\\Roaming\\Python\\Python39\\site-packages\\pip\\_vendor\\distlib\\scripts.py\", line 325, in _make_script\n",
      "    self._write_script(scriptnames, shebang, script, filenames, ext)\n",
      "  File \"C:\\Users\\Jarvis Lu\\AppData\\Roaming\\Python\\Python39\\site-packages\\pip\\_vendor\\distlib\\scripts.py\", line 249, in _write_script\n",
      "    launcher = self._get_launcher('t')\n",
      "  File \"C:\\Users\\Jarvis Lu\\AppData\\Roaming\\Python\\Python39\\site-packages\\pip\\_vendor\\distlib\\scripts.py\", line 404, in _get_launcher\n",
      "    raise ValueError(msg)\n",
      "ValueError: Unable to find resource t64.exe in package pip._vendor.distlib\n",
      "\n",
      "[notice] A new release of pip is available: 23.1.2 -> 23.2.1\n",
      "[notice] To update, run: python.exe -m pip install --upgrade pip\n"
     ]
    }
   ],
   "source": [
    "!python.exe -m pip install --upgrade pip"
   ]
  },
  {
   "cell_type": "code",
   "execution_count": 8,
   "metadata": {},
   "outputs": [
    {
     "name": "stderr",
     "output_type": "stream",
     "text": [
      "ERROR: Could not find a version that satisfies the requirement request (from versions: none)\n",
      "ERROR: No matching distribution found for request\n",
      "\n",
      "[notice] A new release of pip is available: 23.1.2 -> 23.2.1\n",
      "[notice] To update, run: python.exe -m pip install --upgrade pip\n"
     ]
    }
   ],
   "source": [
    "!pip install request"
   ]
  },
  {
   "cell_type": "code",
   "execution_count": 23,
   "metadata": {},
   "outputs": [
    {
     "name": "stdout",
     "output_type": "stream",
     "text": [
      "https://movies.yahoo.com.tw/movieinfo_main/%E9%8B%BC%E9%90%B5%E4%BA%BA3-iron-man-3-4488\n"
     ]
    }
   ],
   "source": [
    "import requests\n",
    "from bs4 import BeautifulSoup as bs\n",
    "from pprint import pprint\n",
    "\n",
    "params = {\n",
    "    'keyword': '鋼鐵人',\n",
    "}\n",
    "url = \"https://movies.yahoo.com.tw/moviesearch_result.html\"\n",
    "\n",
    "response = requests.get(url, params=params)\n",
    "\n",
    "soup = bs(response.text, 'lxml')\n",
    "\n",
    "movie_info = soup.select_one('div.release_movie_name a')['href']\n",
    "print(movie_info)"
   ]
  },
  {
   "cell_type": "code",
   "execution_count": 2,
   "metadata": {},
   "outputs": [
    {
     "name": "stdout",
     "output_type": "stream",
     "text": [
      "2023-10-15\n"
     ]
    }
   ],
   "source": [
    "import datetime, pytz\n",
    "from datetime import timedelta\n",
    "\n",
    "# 取得當前時間\n",
    "now = datetime.datetime.now()\n",
    "\n",
    "yesterday_date = now - timedelta(days=1)\n",
    "\n",
    "# 設定時區為台灣\n",
    "taipei_tz = pytz.timezone('Asia/Taipei')\n",
    "# 將當前時間轉換為台灣時區\n",
    "now_taipei = taipei_tz.localize(yesterday_date)\n",
    "# 今天的日期\n",
    "yesterday_date_str = now_taipei.strftime(\"%Y-%m-%d\")\n",
    "\n",
    "print(yesterday_date_str)"
   ]
  },
  {
   "cell_type": "code",
   "execution_count": 4,
   "metadata": {},
   "outputs": [
    {
     "data": {
      "text/plain": [
       "2462059162224"
      ]
     },
     "execution_count": 4,
     "metadata": {},
     "output_type": "execute_result"
    }
   ],
   "source": [
    "x = 11\n",
    "id(x)"
   ]
  },
  {
   "cell_type": "code",
   "execution_count": null,
   "metadata": {},
   "outputs": [],
   "source": []
  }
 ],
 "metadata": {
  "kernelspec": {
   "display_name": "base",
   "language": "python",
   "name": "python3"
  },
  "language_info": {
   "codemirror_mode": {
    "name": "ipython",
    "version": 3
   },
   "file_extension": ".py",
   "mimetype": "text/x-python",
   "name": "python",
   "nbconvert_exporter": "python",
   "pygments_lexer": "ipython3",
   "version": "3.9.12"
  },
  "orig_nbformat": 4
 },
 "nbformat": 4,
 "nbformat_minor": 2
}
