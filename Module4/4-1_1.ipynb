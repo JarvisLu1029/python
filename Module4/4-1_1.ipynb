{
 "cells": [
  {
   "cell_type": "code",
   "execution_count": 1,
   "metadata": {},
   "outputs": [
    {
     "name": "stdout",
     "output_type": "stream",
     "text": [
      "Hello, World!\n"
     ]
    }
   ],
   "source": [
    "msg = '%s, %s!' % ('Hello', 'World')\n",
    "print(msg) "
   ]
  },
  {
   "cell_type": "code",
   "execution_count": 2,
   "metadata": {},
   "outputs": [
    {
     "name": "stdout",
     "output_type": "stream",
     "text": [
      "I am 5 years old.\n"
     ]
    }
   ],
   "source": [
    "# 整數\n",
    "msg = 'I am %d years old.' % 5\n",
    "print(msg)"
   ]
  },
  {
   "cell_type": "code",
   "execution_count": 3,
   "metadata": {},
   "outputs": [
    {
     "name": "stdout",
     "output_type": "stream",
     "text": [
      "Alex is 18 years old.\n"
     ]
    }
   ],
   "source": [
    "# 文字與整數\n",
    "msg = '%s is %d years old.' % ('Alex', 18)\n",
    "print(msg)"
   ]
  },
  {
   "cell_type": "code",
   "execution_count": 6,
   "metadata": {},
   "outputs": [
    {
     "name": "stdout",
     "output_type": "stream",
     "text": [
      "[     Hello]\n"
     ]
    }
   ],
   "source": [
    "# 指定寬度 %[num]s 維持10個字元 所以是補五個字元\n",
    "msg = '[%10s]' % 'Hello'\n",
    "print(msg)"
   ]
  },
  {
   "cell_type": "code",
   "execution_count": 8,
   "metadata": {},
   "outputs": [
    {
     "name": "stdout",
     "output_type": "stream",
     "text": [
      "[Hello     ]\n"
     ]
    }
   ],
   "source": [
    "msg = '[%-10s]' % 'Hello'\n",
    "print(msg)"
   ]
  },
  {
   "cell_type": "code",
   "execution_count": 20,
   "metadata": {},
   "outputs": [
    {
     "name": "stdout",
     "output_type": "stream",
     "text": [
      "[  112.35]\n"
     ]
    }
   ],
   "source": [
    "# 指定浮點數位數\n",
    "msg = '[%8.2f]' % 112.3456\n",
    "print(msg)"
   ]
  },
  {
   "cell_type": "code",
   "execution_count": 21,
   "metadata": {},
   "outputs": [
    {
     "name": "stdout",
     "output_type": "stream",
     "text": [
      "[Hel]\n"
     ]
    }
   ],
   "source": [
    "msg = '[%.3s]' % 'Hello'\n",
    "print(msg)"
   ]
  },
  {
   "cell_type": "code",
   "execution_count": 22,
   "metadata": {},
   "outputs": [
    {
     "name": "stdout",
     "output_type": "stream",
     "text": [
      "[003.14]\n"
     ]
    }
   ],
   "source": [
    "# 空白補 0\n",
    "msg = '[%06.2f]' % 3.14159\n",
    "print(msg)"
   ]
  }
 ],
 "metadata": {
  "kernelspec": {
   "display_name": "base",
   "language": "python",
   "name": "python3"
  },
  "language_info": {
   "codemirror_mode": {
    "name": "ipython",
    "version": 3
   },
   "file_extension": ".py",
   "mimetype": "text/x-python",
   "name": "python",
   "nbconvert_exporter": "python",
   "pygments_lexer": "ipython3",
   "version": "3.9.12"
  },
  "orig_nbformat": 4
 },
 "nbformat": 4,
 "nbformat_minor": 2
}
