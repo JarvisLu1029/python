{
 "cells": [
  {
   "cell_type": "markdown",
   "metadata": {},
   "source": [
    "### 實例練習 - 判斷一個資料夾中的所有檔案哪些為壓縮檔"
   ]
  },
  {
   "cell_type": "code",
   "execution_count": null,
   "metadata": {},
   "outputs": [],
   "source": [
    "'''\n",
    "補充\n",
    "import os\n",
    "\n",
    "# 指定要讀取的資料夾\n",
    "directory = '/path/to/your/directory'\n",
    "\n",
    "# 使用 os.listdir() 函數獲取所有檔案名稱\n",
    "files = os.listdir(directory)\n",
    "\n",
    "# 列印出所有檔案名稱\n",
    "for file in files:\n",
    "    print(file)\n",
    "'''\n",
    "files = ['123.txt', 'aogao.zip']\n",
    "\n",
    "for file in files:\n",
    "    if file[-3:] == 'zip':\n",
    "        print(file)\n"
   ]
  },
  {
   "cell_type": "code",
   "execution_count": null,
   "metadata": {},
   "outputs": [],
   "source": [
    "import pymysql\n",
    "\n",
    "connection = pymysql.connect(\n",
    "    host='localhost',\n",
    "    user='root',\n",
    "    password='123456',\n",
    "    port=3306,\n",
    "    # database='',\n",
    "    cursorclass=pymysql.cursors.DictCursor\n",
    ")\n",
    "\n",
    "with connection.cursor() as cursor:\n",
    "    sql = '''\n",
    "    SELECT \n",
    "    '''"
   ]
  }
 ],
 "metadata": {
  "language_info": {
   "name": "python"
  },
  "orig_nbformat": 4
 },
 "nbformat": 4,
 "nbformat_minor": 2
}
