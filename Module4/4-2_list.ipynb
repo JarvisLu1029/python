{
 "cells": [
  {
   "cell_type": "code",
   "execution_count": 1,
   "metadata": {},
   "outputs": [
    {
     "name": "stdout",
     "output_type": "stream",
     "text": [
      "[1, 2, 3, 4, 5, 6]\n"
     ]
    }
   ],
   "source": [
    "ids = [1, 2, 3, 4, 5, 6]\n",
    "print(ids)"
   ]
  },
  {
   "cell_type": "code",
   "execution_count": 2,
   "metadata": {},
   "outputs": [
    {
     "name": "stdout",
     "output_type": "stream",
     "text": [
      "[1, 2, 3, 4, 5, 6, 7]\n"
     ]
    }
   ],
   "source": [
    "# 新增元素在 list 末端\n",
    "ids.append(7)\n",
    "print(ids)"
   ]
  },
  {
   "cell_type": "code",
   "execution_count": 3,
   "metadata": {},
   "outputs": [
    {
     "name": "stdout",
     "output_type": "stream",
     "text": [
      "[1, 2, 3, 4, 99, 6, 7]\n"
     ]
    }
   ],
   "source": [
    "# 修改索引位置的元素\n",
    "ids[4] = 99\n",
    "print(ids)"
   ]
  },
  {
   "cell_type": "code",
   "execution_count": null,
   "metadata": {},
   "outputs": [],
   "source": [
    "# 刪除索引位置的元素\n",
    "ids.pop(4)\n",
    "print(ids)"
   ]
  },
  {
   "cell_type": "code",
   "execution_count": 4,
   "metadata": {},
   "outputs": [
    {
     "name": "stdout",
     "output_type": "stream",
     "text": [
      "[1, 9, 2, 3, 4, 99, 6, 7]\n"
     ]
    }
   ],
   "source": [
    "# 新增元素 在指定索引的位置\n",
    "ids.insert(1, 9)\n",
    "print(ids)"
   ]
  },
  {
   "cell_type": "code",
   "execution_count": 5,
   "metadata": {},
   "outputs": [
    {
     "name": "stdout",
     "output_type": "stream",
     "text": [
      "[1, 2, 3, 4, 99, 6, 7]\n"
     ]
    }
   ],
   "source": [
    "# 移除指定的值\n",
    "ids.remove(9)\n",
    "print(ids)"
   ]
  },
  {
   "attachments": {},
   "cell_type": "markdown",
   "metadata": {},
   "source": [
    "### 進階用法"
   ]
  },
  {
   "cell_type": "code",
   "execution_count": 8,
   "metadata": {},
   "outputs": [
    {
     "name": "stdout",
     "output_type": "stream",
     "text": [
      "Pythonlist變字串\n"
     ]
    }
   ],
   "source": [
    "list05 = ['Python', 'list', '變字串']\n",
    "string05 = ''.join(list05)\n",
    "print(string05)"
   ]
  },
  {
   "cell_type": "code",
   "execution_count": 9,
   "metadata": {},
   "outputs": [
    {
     "name": "stdout",
     "output_type": "stream",
     "text": [
      "Pythonlist變字串\n"
     ]
    }
   ],
   "source": [
    "string06 = ''\n",
    "for i in list05:\n",
    "    string06 += i\n",
    "print(string06)"
   ]
  },
  {
   "cell_type": "code",
   "execution_count": 14,
   "metadata": {},
   "outputs": [
    {
     "name": "stdout",
     "output_type": "stream",
     "text": [
      "140194582469184\n",
      "[1, 2, 3, 4, 5, 6]\n",
      "140194582469184\n"
     ]
    }
   ],
   "source": [
    "# list 合併 list\n",
    "list1 = [1, 2, 3]\n",
    "list2 = [4, 5, 6]\n",
    "print(id(list1))\n",
    "list1.extend(list2)\n",
    "# list3 = list1 + list2\n",
    "print(list1)\n",
    "print(id(list1)) "
   ]
  },
  {
   "cell_type": "code",
   "execution_count": null,
   "metadata": {},
   "outputs": [],
   "source": []
  }
 ],
 "metadata": {
  "kernelspec": {
   "display_name": "base",
   "language": "python",
   "name": "python3"
  },
  "language_info": {
   "codemirror_mode": {
    "name": "ipython",
    "version": 3
   },
   "file_extension": ".py",
   "mimetype": "text/x-python",
   "name": "python",
   "nbconvert_exporter": "python",
   "pygments_lexer": "ipython3",
   "version": "3.9.12"
  },
  "orig_nbformat": 4
 },
 "nbformat": 4,
 "nbformat_minor": 2
}
