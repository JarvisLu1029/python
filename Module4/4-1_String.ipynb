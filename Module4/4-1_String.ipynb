{
 "cells": [
  {
   "cell_type": "code",
   "execution_count": 9,
   "metadata": {},
   "outputs": [
    {
     "name": "stdout",
     "output_type": "stream",
     "text": [
      "hello World!\n",
      "2152138333296\n",
      "2152138218352\n"
     ]
    }
   ],
   "source": [
    "# 字串變數初始化\n",
    "string01 = \"hello World!\"\n",
    "print(string01)\n",
    "string01 = 'H' + string01[1:]\n"
   ]
  },
  {
   "cell_type": "markdown",
   "metadata": {},
   "source": [
    "### 替換字串"
   ]
  },
  {
   "cell_type": "code",
   "execution_count": 3,
   "metadata": {},
   "outputs": [
    {
     "name": "stdout",
     "output_type": "stream",
     "text": [
      "Allen\n"
     ]
    }
   ],
   "source": [
    "'''\n",
    "用法\n",
    "string.replace(str1, str2)\n",
    "說明\n",
    "將 string 中的 str1 替換成 str2\n",
    "'''\n",
    "string02 = \"Alex\"\n",
    "string02 = string02.replace('ex', 'len')\n",
    "print(string02)\n"
   ]
  },
  {
   "cell_type": "markdown",
   "metadata": {},
   "source": [
    "### 去除字串某個值"
   ]
  },
  {
   "cell_type": "code",
   "execution_count": 4,
   "metadata": {},
   "outputs": [
    {
     "name": "stdout",
     "output_type": "stream",
     "text": [
      "        ___ccc___         \n",
      "___ccc___\n"
     ]
    }
   ],
   "source": [
    "'''\n",
    "用法\n",
    "string.strip()\n",
    "說明\n",
    "去除字串 string 左、右兩邊的空格\n",
    "'''\n",
    "\n",
    "string03 = \"        ___ccc___         \"\n",
    "print(string03)\n",
    "print(string03.strip())"
   ]
  },
  {
   "cell_type": "markdown",
   "metadata": {},
   "source": [
    "### 字串變成小寫或大寫"
   ]
  },
  {
   "cell_type": "code",
   "execution_count": null,
   "metadata": {},
   "outputs": [],
   "source": [
    "'''\n",
    "用法\n",
    "string.lower()\n",
    "說明\n",
    "將字串 string 裡的字母全部改成小寫\n",
    "'''\n",
    "print(\"CAR\".lower())\n"
   ]
  },
  {
   "cell_type": "code",
   "execution_count": null,
   "metadata": {},
   "outputs": [],
   "source": [
    "'''\n",
    "用法\n",
    "string.upper()\n",
    "說明\n",
    "將字串 string 裡的字母全部改成大寫\n",
    "'''\n",
    "print(\"good\".upper())\n"
   ]
  }
 ],
 "metadata": {
  "kernelspec": {
   "display_name": "base",
   "language": "python",
   "name": "python3"
  },
  "language_info": {
   "codemirror_mode": {
    "name": "ipython",
    "version": 3
   },
   "file_extension": ".py",
   "mimetype": "text/x-python",
   "name": "python",
   "nbconvert_exporter": "python",
   "pygments_lexer": "ipython3",
   "version": "3.9.12"
  },
  "orig_nbformat": 4
 },
 "nbformat": 4,
 "nbformat_minor": 2
}
