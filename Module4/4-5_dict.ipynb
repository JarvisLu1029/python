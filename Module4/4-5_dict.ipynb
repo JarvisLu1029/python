{
 "cells": [
  {
   "cell_type": "code",
   "execution_count": 2,
   "metadata": {},
   "outputs": [],
   "source": [
    "dict01 = {\n",
    "    'apple': 100,\n",
    "    'orange': 20,\n",
    "    'pear': 50\n",
    "}"
   ]
  },
  {
   "cell_type": "code",
   "execution_count": 5,
   "metadata": {},
   "outputs": [
    {
     "name": "stdout",
     "output_type": "stream",
     "text": [
      "apple 100\n",
      "orange 20\n",
      "pear 50\n"
     ]
    }
   ],
   "source": [
    "for key in dict01:\n",
    "    print(f'{key} {dict01[key]}')\n",
    "    # print(value)"
   ]
  },
  {
   "cell_type": "code",
   "execution_count": 16,
   "metadata": {},
   "outputs": [
    {
     "name": "stdout",
     "output_type": "stream",
     "text": [
      "100\n"
     ]
    }
   ],
   "source": [
    "print(dict01['apple'])"
   ]
  },
  {
   "cell_type": "code",
   "execution_count": 17,
   "metadata": {},
   "outputs": [
    {
     "name": "stdout",
     "output_type": "stream",
     "text": [
      "{'apple': 100, 'orange': 40, 'pear': 50}\n"
     ]
    }
   ],
   "source": [
    "dict01['orange'] = 40\n",
    "print(dict01)"
   ]
  },
  {
   "cell_type": "code",
   "execution_count": 18,
   "metadata": {},
   "outputs": [
    {
     "name": "stdout",
     "output_type": "stream",
     "text": [
      "{'apple': 100, 'orange': 40}\n"
     ]
    }
   ],
   "source": [
    "del dict01['pear']\n",
    "print(dict01)"
   ]
  },
  {
   "cell_type": "code",
   "execution_count": 20,
   "metadata": {},
   "outputs": [],
   "source": [
    "dict02 = {\n",
    "    'name': 'Jarvis',\n",
    "    'age': 18,\n",
    "    'info': {\n",
    "        'nickname': 'boatman',\n",
    "        'favorite_role': 'Doraemon',\n",
    "        'phone_number': [\n",
    "            '0911111111',\n",
    "            '0922222222',\n",
    "            '0933333333'\n",
    "        ]\n",
    "    }\n",
    "}"
   ]
  },
  {
   "cell_type": "code",
   "execution_count": 23,
   "metadata": {},
   "outputs": [
    {
     "name": "stdout",
     "output_type": "stream",
     "text": [
      "boatman\n"
     ]
    }
   ],
   "source": [
    "print(dict02['info']['nickname'])"
   ]
  },
  {
   "cell_type": "code",
   "execution_count": 2,
   "metadata": {},
   "outputs": [
    {
     "name": "stdout",
     "output_type": "stream",
     "text": [
      "dict_values(['Jarvis', 18, 172, 100])\n"
     ]
    }
   ],
   "source": [
    "dict1 = {'name': 'Jarvis', 'age': 18, 'height': 172, 'weight': 100}\n",
    "dict1.values()\n",
    "\n",
    "print(dict1.values())"
   ]
  },
  {
   "cell_type": "code",
   "execution_count": 6,
   "metadata": {},
   "outputs": [
    {
     "name": "stdout",
     "output_type": "stream",
     "text": [
      "Jarvis 18 172 100 "
     ]
    }
   ],
   "source": [
    "for i in dict1.values():\n",
    "    print(i, end=\" \")"
   ]
  },
  {
   "cell_type": "code",
   "execution_count": 4,
   "metadata": {},
   "outputs": [
    {
     "name": "stdout",
     "output_type": "stream",
     "text": [
      "dict_values(['Jarvis', 18, 172, 100])\n",
      "Jarvis\n",
      "18\n",
      "172\n",
      "100\n"
     ]
    }
   ],
   "source": [
    "list1 = dict1.values()\n",
    "print(list1)\n",
    "for i in list1:\n",
    "    print(i)"
   ]
  },
  {
   "cell_type": "code",
   "execution_count": 10,
   "metadata": {},
   "outputs": [
    {
     "name": "stdout",
     "output_type": "stream",
     "text": [
      "dict_keys(['name', 'age', 'height', 'weight'])\n"
     ]
    }
   ],
   "source": [
    "list2 = dict1.keys()\n",
    "print(list2)"
   ]
  },
  {
   "cell_type": "code",
   "execution_count": null,
   "metadata": {},
   "outputs": [],
   "source": []
  }
 ],
 "metadata": {
  "kernelspec": {
   "display_name": "base",
   "language": "python",
   "name": "python3"
  },
  "language_info": {
   "codemirror_mode": {
    "name": "ipython",
    "version": 3
   },
   "file_extension": ".py",
   "mimetype": "text/x-python",
   "name": "python",
   "nbconvert_exporter": "python",
   "pygments_lexer": "ipython3",
   "version": "3.9.12"
  },
  "orig_nbformat": 4
 },
 "nbformat": 4,
 "nbformat_minor": 2
}
