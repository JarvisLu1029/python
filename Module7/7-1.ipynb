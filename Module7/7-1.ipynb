{
 "cells": [
  {
   "cell_type": "code",
   "execution_count": 2,
   "metadata": {},
   "outputs": [
    {
     "name": "stdout",
     "output_type": "stream",
     "text": [
      "5\n",
      "沒有錯誤產生\n",
      "程式結束\n"
     ]
    }
   ],
   "source": [
    "try:\n",
    "    z = 5\n",
    "    print(z)\n",
    "except NameError:\n",
    "    print('尚未宣告 z')\n",
    "else:\n",
    "    print('沒有錯誤產生')\n",
    "finally:\n",
    "    print('程式結束')"
   ]
  },
  {
   "cell_type": "code",
   "execution_count": 6,
   "metadata": {},
   "outputs": [
    {
     "name": "stdout",
     "output_type": "stream",
     "text": [
      "Something wrong\n"
     ]
    }
   ],
   "source": [
    "x = 1\n",
    "try:\n",
    "    print(x/0)\n",
    "except NameError:\n",
    "    print(\"x 尚未宣告\")\n",
    "except:\n",
    "    print(\"Something wrong\")"
   ]
  },
  {
   "cell_type": "code",
   "execution_count": 8,
   "metadata": {},
   "outputs": [
    {
     "name": "stdout",
     "output_type": "stream",
     "text": [
      "NameError: name 'y' is not defined\n",
      "123\n"
     ]
    }
   ],
   "source": [
    "try:\n",
    "    try:\n",
    "        print(y)\n",
    "    except NameError as err:\n",
    "        print(f\"NameError: {err}\")\n",
    "    print(123)\n",
    "except Exception as err:\n",
    "    print(f\"Exception: {err}\")"
   ]
  },
  {
   "cell_type": "code",
   "execution_count": 7,
   "metadata": {},
   "outputs": [
    {
     "name": "stdout",
     "output_type": "stream",
     "text": [
      "班級錯誤\n"
     ]
    }
   ],
   "source": [
    "def get_user_data(permission, user_class):\n",
    "    if permission == \"SuperAdmin\":\n",
    "        if user_class == 'BigData':\n",
    "            return 'John'\n",
    "        else:\n",
    "            raise Exception('班級錯誤')\n",
    "    else:\n",
    "        raise NameError('權限不足')\n",
    "\n",
    "try:\n",
    "    user_name = get_user_data('SuperAdmin', 'Java')\n",
    "    print(user_name)\n",
    "except NameError as err:\n",
    "    print(err)\n",
    "except Exception as id:\n",
    "    print(id)"
   ]
  },
  {
   "cell_type": "code",
   "execution_count": null,
   "metadata": {},
   "outputs": [],
   "source": []
  }
 ],
 "metadata": {
  "kernelspec": {
   "display_name": "base",
   "language": "python",
   "name": "python3"
  },
  "language_info": {
   "codemirror_mode": {
    "name": "ipython",
    "version": 3
   },
   "file_extension": ".py",
   "mimetype": "text/x-python",
   "name": "python",
   "nbconvert_exporter": "python",
   "pygments_lexer": "ipython3",
   "version": "3.9.12"
  },
  "orig_nbformat": 4
 },
 "nbformat": 4,
 "nbformat_minor": 2
}
